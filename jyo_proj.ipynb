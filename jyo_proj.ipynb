{
 "cells": [
  {
   "cell_type": "markdown",
   "metadata": {},
   "source": [
    "<img src=\"http://imgur.com/1ZcRyrc.png\" style=\"float: left; margin: 15px; height: 80px\">\n",
    "\n",
    "# Project 3\n",
    "\n",
    "### Regression and Classification with the Ames Housing Data\n",
    "\n",
    "---\n",
    "\n",
    "You have just joined a new \"full stack\" real estate company in Ames, Iowa. The strategy of the firm is two-fold:\n",
    "- Own the entire process from the purchase of the land all the way to sale of the house, and anything in between.\n",
    "- Use statistical analysis to optimize investment and maximize return.\n",
    "\n",
    "The company is still small, and though investment is substantial the short-term goals of the company are more oriented towards purchasing existing houses and flipping them as opposed to constructing entirely new houses. That being said, the company has access to a large construction workforce operating at rock-bottom prices.\n",
    "\n",
    "This project uses the [Ames housing data recently made available on kaggle](https://www.kaggle.com/c/house-prices-advanced-regression-techniques)."
   ]
  },
  {
   "cell_type": "code",
   "execution_count": 1038,
   "metadata": {},
   "outputs": [],
   "source": [
    "import numpy as np\n",
    "import scipy.stats as stats\n",
    "import seaborn as sns\n",
    "import matplotlib.pyplot as plt\n",
    "import pandas as pd\n",
    "\n",
    "sns.set_style('whitegrid')\n",
    "\n",
    "%config InlineBackend.figure_format = 'retina'\n",
    "%matplotlib inline"
   ]
  },
  {
   "cell_type": "markdown",
   "metadata": {},
   "source": [
    "<img src=\"http://imgur.com/l5NasQj.png\" style=\"float: left; margin: 25px 15px 0px 0px; height: 25px\">\n",
    "\n",
    "## 1. Estimating the value of homes from fixed characteristics.\n",
    "\n",
    "---\n",
    "\n",
    "Your superiors have outlined this year's strategy for the company:\n",
    "1. Develop an algorithm to reliably estimate the value of residential houses based on *fixed* characteristics.\n",
    "2. Identify characteristics of houses that the company can cost-effectively change/renovate with their construction team.\n",
    "3. Evaluate the mean dollar value of different renovations.\n",
    "\n",
    "Then we can use that to buy houses that are likely to sell for more than the cost of the purchase plus renovations.\n",
    "\n",
    "Your first job is to tackle #1. You have a dataset of housing sale data with a huge amount of features identifying different aspects of the house. The full description of the data features can be found in a separate file:\n",
    "\n",
    "    housing.csv\n",
    "    data_description.txt\n",
    "    \n",
    "You need to build a reliable estimator for the price of the house given characteristics of the house that cannot be renovated. Some examples include:\n",
    "- The neighborhood\n",
    "- Square feet\n",
    "- Bedrooms, bathrooms\n",
    "- Basement and garage space\n",
    "\n",
    "and many more. \n",
    "\n",
    "Some examples of things that **ARE renovate-able:**\n",
    "- Roof and exterior features\n",
    "- \"Quality\" metrics, such as kitchen quality\n",
    "- \"Condition\" metrics, such as condition of garage\n",
    "- Heating and electrical components\n",
    "\n",
    "and generally anything you deem can be modified without having to undergo major construction on the house.\n",
    "\n",
    "---\n",
    "\n",
    "**Your goals:**\n",
    "1. Perform any cleaning, feature engineering, and EDA you deem necessary.\n",
    "- Be sure to remove any houses that are not residential from the dataset.\n",
    "- Identify **fixed** features that can predict price.\n",
    "- Train a model on pre-2010 data and evaluate its performance on the 2010 houses.\n",
    "- Characterize your model. How well does it perform? What are the best estimates of price?\n",
    "\n",
    "> **Note:** The EDA and feature engineering component to this project is not trivial! Be sure to always think critically and creatively. Justify your actions! Use the data description file!"
   ]
  },
  {
   "cell_type": "code",
   "execution_count": 1039,
   "metadata": {},
   "outputs": [],
   "source": [
    "# Load the data\n",
    "house = pd.read_csv('./housing.csv')"
   ]
  },
  {
   "cell_type": "code",
   "execution_count": 1040,
   "metadata": {},
   "outputs": [
    {
     "data": {
      "text/plain": [
       "(1460, 81)"
      ]
     },
     "execution_count": 1040,
     "metadata": {},
     "output_type": "execute_result"
    }
   ],
   "source": [
    "house.shape"
   ]
  },
  {
   "cell_type": "code",
   "execution_count": 1041,
   "metadata": {},
   "outputs": [
    {
     "name": "stdout",
     "output_type": "stream",
     "text": [
      "<class 'pandas.core.frame.DataFrame'>\n",
      "RangeIndex: 1460 entries, 0 to 1459\n",
      "Data columns (total 81 columns):\n",
      "Id               1460 non-null int64\n",
      "MSSubClass       1460 non-null int64\n",
      "MSZoning         1460 non-null object\n",
      "LotFrontage      1201 non-null float64\n",
      "LotArea          1460 non-null int64\n",
      "Street           1460 non-null object\n",
      "Alley            91 non-null object\n",
      "LotShape         1460 non-null object\n",
      "LandContour      1460 non-null object\n",
      "Utilities        1460 non-null object\n",
      "LotConfig        1460 non-null object\n",
      "LandSlope        1460 non-null object\n",
      "Neighborhood     1460 non-null object\n",
      "Condition1       1460 non-null object\n",
      "Condition2       1460 non-null object\n",
      "BldgType         1460 non-null object\n",
      "HouseStyle       1460 non-null object\n",
      "OverallQual      1460 non-null int64\n",
      "OverallCond      1460 non-null int64\n",
      "YearBuilt        1460 non-null int64\n",
      "YearRemodAdd     1460 non-null int64\n",
      "RoofStyle        1460 non-null object\n",
      "RoofMatl         1460 non-null object\n",
      "Exterior1st      1460 non-null object\n",
      "Exterior2nd      1460 non-null object\n",
      "MasVnrType       1452 non-null object\n",
      "MasVnrArea       1452 non-null float64\n",
      "ExterQual        1460 non-null object\n",
      "ExterCond        1460 non-null object\n",
      "Foundation       1460 non-null object\n",
      "BsmtQual         1423 non-null object\n",
      "BsmtCond         1423 non-null object\n",
      "BsmtExposure     1422 non-null object\n",
      "BsmtFinType1     1423 non-null object\n",
      "BsmtFinSF1       1460 non-null int64\n",
      "BsmtFinType2     1422 non-null object\n",
      "BsmtFinSF2       1460 non-null int64\n",
      "BsmtUnfSF        1460 non-null int64\n",
      "TotalBsmtSF      1460 non-null int64\n",
      "Heating          1460 non-null object\n",
      "HeatingQC        1460 non-null object\n",
      "CentralAir       1460 non-null object\n",
      "Electrical       1459 non-null object\n",
      "1stFlrSF         1460 non-null int64\n",
      "2ndFlrSF         1460 non-null int64\n",
      "LowQualFinSF     1460 non-null int64\n",
      "GrLivArea        1460 non-null int64\n",
      "BsmtFullBath     1460 non-null int64\n",
      "BsmtHalfBath     1460 non-null int64\n",
      "FullBath         1460 non-null int64\n",
      "HalfBath         1460 non-null int64\n",
      "BedroomAbvGr     1460 non-null int64\n",
      "KitchenAbvGr     1460 non-null int64\n",
      "KitchenQual      1460 non-null object\n",
      "TotRmsAbvGrd     1460 non-null int64\n",
      "Functional       1460 non-null object\n",
      "Fireplaces       1460 non-null int64\n",
      "FireplaceQu      770 non-null object\n",
      "GarageType       1379 non-null object\n",
      "GarageYrBlt      1379 non-null float64\n",
      "GarageFinish     1379 non-null object\n",
      "GarageCars       1460 non-null int64\n",
      "GarageArea       1460 non-null int64\n",
      "GarageQual       1379 non-null object\n",
      "GarageCond       1379 non-null object\n",
      "PavedDrive       1460 non-null object\n",
      "WoodDeckSF       1460 non-null int64\n",
      "OpenPorchSF      1460 non-null int64\n",
      "EnclosedPorch    1460 non-null int64\n",
      "3SsnPorch        1460 non-null int64\n",
      "ScreenPorch      1460 non-null int64\n",
      "PoolArea         1460 non-null int64\n",
      "PoolQC           7 non-null object\n",
      "Fence            281 non-null object\n",
      "MiscFeature      54 non-null object\n",
      "MiscVal          1460 non-null int64\n",
      "MoSold           1460 non-null int64\n",
      "YrSold           1460 non-null int64\n",
      "SaleType         1460 non-null object\n",
      "SaleCondition    1460 non-null object\n",
      "SalePrice        1460 non-null int64\n",
      "dtypes: float64(3), int64(35), object(43)\n",
      "memory usage: 924.0+ KB\n"
     ]
    }
   ],
   "source": [
    "house.info()"
   ]
  },
  {
   "cell_type": "code",
   "execution_count": 1042,
   "metadata": {},
   "outputs": [],
   "source": [
    "Lappval=['RL','RM','RH','FV']\n",
    "house = house[house.MSZoning.isin(Lappval)]"
   ]
  },
  {
   "cell_type": "code",
   "execution_count": 1043,
   "metadata": {},
   "outputs": [
    {
     "data": {
      "text/plain": [
       "(1450, 81)"
      ]
     },
     "execution_count": 1043,
     "metadata": {},
     "output_type": "execute_result"
    }
   ],
   "source": [
    "house.shape"
   ]
  },
  {
   "cell_type": "code",
   "execution_count": 1044,
   "metadata": {},
   "outputs": [
    {
     "data": {
      "text/plain": [
       "Index(['Id', 'MSSubClass', 'MSZoning', 'LotFrontage', 'LotArea', 'Street',\n",
       "       'Alley', 'LotShape', 'LandContour', 'Utilities', 'LotConfig',\n",
       "       'LandSlope', 'Neighborhood', 'Condition1', 'Condition2', 'BldgType',\n",
       "       'HouseStyle', 'OverallQual', 'OverallCond', 'YearBuilt', 'YearRemodAdd',\n",
       "       'RoofStyle', 'RoofMatl', 'Exterior1st', 'Exterior2nd', 'MasVnrType',\n",
       "       'MasVnrArea', 'ExterQual', 'ExterCond', 'Foundation', 'BsmtQual',\n",
       "       'BsmtCond', 'BsmtExposure', 'BsmtFinType1', 'BsmtFinSF1',\n",
       "       'BsmtFinType2', 'BsmtFinSF2', 'BsmtUnfSF', 'TotalBsmtSF', 'Heating',\n",
       "       'HeatingQC', 'CentralAir', 'Electrical', '1stFlrSF', '2ndFlrSF',\n",
       "       'LowQualFinSF', 'GrLivArea', 'BsmtFullBath', 'BsmtHalfBath', 'FullBath',\n",
       "       'HalfBath', 'BedroomAbvGr', 'KitchenAbvGr', 'KitchenQual',\n",
       "       'TotRmsAbvGrd', 'Functional', 'Fireplaces', 'FireplaceQu', 'GarageType',\n",
       "       'GarageYrBlt', 'GarageFinish', 'GarageCars', 'GarageArea', 'GarageQual',\n",
       "       'GarageCond', 'PavedDrive', 'WoodDeckSF', 'OpenPorchSF',\n",
       "       'EnclosedPorch', '3SsnPorch', 'ScreenPorch', 'PoolArea', 'PoolQC',\n",
       "       'Fence', 'MiscFeature', 'MiscVal', 'MoSold', 'YrSold', 'SaleType',\n",
       "       'SaleCondition', 'SalePrice'],\n",
       "      dtype='object')"
      ]
     },
     "execution_count": 1044,
     "metadata": {},
     "output_type": "execute_result"
    }
   ],
   "source": [
    "house.columns"
   ]
  },
  {
   "cell_type": "code",
   "execution_count": 1045,
   "metadata": {},
   "outputs": [
    {
     "data": {
      "text/plain": [
       "(1450, 81)"
      ]
     },
     "execution_count": 1045,
     "metadata": {},
     "output_type": "execute_result"
    }
   ],
   "source": [
    "house.shape"
   ]
  },
  {
   "cell_type": "code",
   "execution_count": 1046,
   "metadata": {
    "scrolled": true
   },
   "outputs": [
    {
     "data": {
      "text/plain": [
       "[['Utilities', 99.93103448275862],\n",
       " ['Street', 99.72413793103448],\n",
       " ['PoolArea', 99.51724137931035],\n",
       " ['Condition2', 99.03448275862068],\n",
       " ['3SsnPorch', 98.34482758620689],\n",
       " ['LowQualFinSF', 98.27586206896552],\n",
       " ['RoofMatl', 98.20689655172414],\n",
       " ['Heating', 97.86206896551724],\n",
       " ['MiscVal', 96.55172413793103],\n",
       " ['GarageCond', 96.2071480671043],\n",
       " ['KitchenAbvGr', 95.37931034482759],\n",
       " ['GarageQual', 95.04011670313639],\n",
       " ['LandSlope', 94.82758620689656],\n",
       " ['BsmtHalfBath', 94.41379310344827],\n",
       " ['CentralAir', 93.86206896551724],\n",
       " ['Functional', 93.10344827586206],\n",
       " ['BsmtCond', 92.21514508138712],\n",
       " ['PavedDrive', 92.06896551724138],\n",
       " ['ScreenPorch', 92.06896551724138],\n",
       " ['Electrical', 91.64941338854382],\n",
       " ['MiscFeature', 90.38461538461539],\n",
       " ['LandContour', 90.0],\n",
       " ['BsmtFinSF2', 88.48275862068965],\n",
       " ['BsmtFinType2', 88.24362606232295],\n",
       " ['ExterCond', 87.93103448275862],\n",
       " ['SaleType', 86.96551724137932],\n",
       " ['Condition1', 86.34482758620689],\n",
       " ['EnclosedPorch', 86.06896551724138],\n",
       " ['BldgType', 83.51724137931035],\n",
       " ['SaleCondition', 82.34482758620689],\n",
       " ['MSZoning', 79.37931034482759],\n",
       " ['RoofStyle', 78.27586206896552],\n",
       " ['LotConfig', 72.0],\n",
       " ['BsmtExposure', 67.06798866855524],\n",
       " ['GarageType', 63.457330415754925],\n",
       " ['LotShape', 63.172413793103445],\n",
       " ['HalfBath', 62.3448275862069],\n",
       " ['ExterQual', 62.0],\n",
       " ['MasVnrType', 59.22330097087379],\n",
       " ['MasVnrArea', 59.01525658807212],\n",
       " ['BsmtFullBath', 58.41379310344828],\n",
       " ['2ndFlrSF', 56.827586206896555],\n",
       " ['GarageCars', 56.62068965517241],\n",
       " ['OverallCond', 56.48275862068966],\n",
       " ['Alley', 56.17977528089887],\n",
       " ['Fence', 55.75539568345324],\n",
       " ['BedroomAbvGr', 55.310344827586206],\n",
       " ['FullBath', 52.89655172413793],\n",
       " ['WoodDeckSF', 51.93103448275862],\n",
       " ['HeatingQC', 51.03448275862069],\n",
       " ['KitchenQual', 50.13793103448276],\n",
       " ['HouseStyle', 49.793103448275865],\n",
       " ['FireplaceQu', 49.28478543563069],\n",
       " ['Fireplaces', 46.96551724137931],\n",
       " ['BsmtQual', 45.22292993630573],\n",
       " ['OpenPorchSF', 44.827586206896555],\n",
       " ['Foundation', 44.62068965517241],\n",
       " ['GarageFinish', 43.7636761487965],\n",
       " ['PoolQC', 42.857142857142854],\n",
       " ['MSSubClass', 36.827586206896555],\n",
       " ['Exterior1st', 35.51724137931034],\n",
       " ['Exterior2nd', 34.758620689655174],\n",
       " ['BsmtFinSF1', 31.79310344827586],\n",
       " ['BsmtFinType1', 30.007077140835104],\n",
       " ['TotRmsAbvGrd', 27.448275862068964],\n",
       " ['OverallQual', 27.310344827586206],\n",
       " ['YrSold', 23.17241379310345],\n",
       " ['MoSold', 17.379310344827587],\n",
       " ['Neighborhood', 15.517241379310345],\n",
       " ['YearRemodAdd', 11.793103448275861],\n",
       " ['LotFrontage', 11.670864819479428],\n",
       " ['BsmtUnfSF', 8.068965517241379],\n",
       " ['GarageArea', 5.448275862068965],\n",
       " ['GarageYrBlt', 4.741064916119621],\n",
       " ['YearBuilt', 4.620689655172414],\n",
       " ['TotalBsmtSF', 2.5517241379310347],\n",
       " ['1stFlrSF', 1.7241379310344827],\n",
       " ['LotArea', 1.6551724137931034],\n",
       " ['GrLivArea', 1.5172413793103448],\n",
       " ['SalePrice', 1.3793103448275863]]"
      ]
     },
     "execution_count": 1046,
     "metadata": {},
     "output_type": "execute_result"
    }
   ],
   "source": [
    "col_data=list()\n",
    "for name in house.columns:\n",
    "    if name not in [\"Id\"]:\n",
    "  #      print(house_train[name].value_counts().iloc[0])\n",
    "         col_data.append([name,house[name].value_counts().iloc[0]*100/house[name].count()])\n",
    "col_data.sort(key=lambda x:x[1],reverse=True)\n",
    "col_data"
   ]
  },
  {
   "cell_type": "code",
   "execution_count": 1047,
   "metadata": {},
   "outputs": [
    {
     "data": {
      "text/plain": [
       "[['Street', 100.0],\n",
       " ['PoolQC', 100.0],\n",
       " ['MiscFeature', 100.0],\n",
       " ['SaleCondition', 100.0],\n",
       " ['Utilities', 98.95833333333333],\n",
       " ['Condition2', 98.95833333333333],\n",
       " ['Heating', 98.95833333333333],\n",
       " ['3SsnPorch', 97.91666666666667],\n",
       " ['PoolArea', 97.91666666666667],\n",
       " ['MiscVal', 97.91666666666667],\n",
       " ['RoofMatl', 96.875],\n",
       " ['LowQualFinSF', 95.83333333333333],\n",
       " ['GarageCond', 94.04761904761905],\n",
       " ['LandSlope', 93.75],\n",
       " ['KitchenAbvGr', 93.75],\n",
       " ['CentralAir', 92.70833333333333],\n",
       " ['Functional', 91.66666666666667],\n",
       " ['GarageQual', 91.66666666666667],\n",
       " ['PavedDrive', 91.66666666666667],\n",
       " ['BsmtHalfBath', 90.625],\n",
       " ['BsmtCond', 90.52631578947368],\n",
       " ['LandContour', 89.58333333333333],\n",
       " ['ScreenPorch', 88.54166666666667],\n",
       " ['ExterCond', 87.5],\n",
       " ['Condition1', 85.41666666666667],\n",
       " ['Electrical', 85.41666666666667],\n",
       " ['RoofStyle', 84.375],\n",
       " ['BldgType', 83.33333333333333],\n",
       " ['BsmtFinSF2', 83.33333333333333],\n",
       " ['BsmtFinType2', 83.15789473684211],\n",
       " ['EnclosedPorch', 79.16666666666667],\n",
       " ['ExterQual', 77.08333333333333],\n",
       " ['BsmtExposure', 74.73684210526316],\n",
       " ['MSZoning', 72.91666666666667],\n",
       " ['HalfBath', 70.83333333333333],\n",
       " ['SaleType', 69.79166666666667],\n",
       " ['LotShape', 66.66666666666667],\n",
       " ['LotConfig', 65.625],\n",
       " ['MasVnrType', 64.58333333333333],\n",
       " ['MasVnrArea', 64.58333333333333],\n",
       " ['Fireplaces', 63.541666666666664],\n",
       " ['BsmtQual', 62.10526315789474],\n",
       " ['BsmtFullBath', 61.458333333333336],\n",
       " ['FullBath', 61.458333333333336],\n",
       " ['KitchenQual', 61.458333333333336],\n",
       " ['KQ', 61.458333333333336],\n",
       " ['2ndFlrSF', 60.416666666666664],\n",
       " ['WoodDeckSF', 59.375],\n",
       " ['Fence', 58.62068965517241],\n",
       " ['GarageFinish', 57.142857142857146],\n",
       " ['Foundation', 56.25],\n",
       " ['OpenPorchSF', 56.25],\n",
       " ['Alley', 55.55555555555556],\n",
       " ['BedroomAbvGr', 53.125],\n",
       " ['GarageType', 52.38095238095238],\n",
       " ['HouseStyle', 52.083333333333336],\n",
       " ['OverallCond', 52.083333333333336],\n",
       " ['GarageCars', 50.0],\n",
       " ['Gar', 50.0],\n",
       " ['FireplaceQu', 48.57142857142857],\n",
       " ['HeatingQC', 41.666666666666664],\n",
       " ['OverallQual', 38.541666666666664],\n",
       " ['MSSubClass', 36.458333333333336],\n",
       " ['TotRmsAbvGrd', 33.333333333333336],\n",
       " ['YrSold', 33.333333333333336],\n",
       " ['BsmtFinSF1', 32.291666666666664],\n",
       " ['Bsmt', 32.291666666666664],\n",
       " ['SoldQtr', 32.291666666666664],\n",
       " ['BsmtFinType1', 31.57894736842105],\n",
       " ['Exterior1st', 27.083333333333332],\n",
       " ['rat', 27.083333333333332],\n",
       " ['Exterior2nd', 25.0],\n",
       " ['Neighborhood', 23.958333333333332],\n",
       " ['YearRemodAdd', 17.708333333333332],\n",
       " ['MoSold', 16.666666666666668],\n",
       " ['LotFrontage', 16.455696202531644],\n",
       " ['GarageArea', 12.5],\n",
       " ['YearBuilt', 6.25],\n",
       " ['BsmtUnfSF', 6.25],\n",
       " ['year', 5.208333333333333],\n",
       " ['GarageYrBlt', 4.761904761904762],\n",
       " ['LotArea', 3.125],\n",
       " ['TotalBsmtSF', 3.125],\n",
       " ['1stFlrSF', 3.125],\n",
       " ['GrLivArea', 3.125],\n",
       " ['SalePrice', 3.125]]"
      ]
     },
     "execution_count": 1047,
     "metadata": {},
     "output_type": "execute_result"
    }
   ],
   "source": [
    "#Trying to figure out variance\n",
    "col_data=list()\n",
    "for name in new.columns:\n",
    "    if name not in [\"Id\"]:\n",
    "  #      print(house_train[name].value_counts().iloc[0])\n",
    "         col_data.append([name,new[name].value_counts().iloc[0]*100/new[name].count()])\n",
    "col_data.sort(key=lambda x:x[1],reverse=True)\n",
    "col_data"
   ]
  },
  {
   "cell_type": "code",
   "execution_count": 1048,
   "metadata": {},
   "outputs": [
    {
     "data": {
      "text/plain": [
       "<matplotlib.axes._subplots.AxesSubplot at 0x23a93a5fba8>"
      ]
     },
     "execution_count": 1048,
     "metadata": {},
     "output_type": "execute_result"
    },
    {
     "data": {
      "image/png": "[encoded data removed]",
      "text/plain": [
       "<Figure size 432x288 with 1 Axes>"
      ]
     },
     "metadata": {
      "image/png": {
       "height": 263,
       "width": 404
      },
      "needs_background": "light"
     },
     "output_type": "display_data"
    }
   ],
   "source": [
    "sns.scatterplot(\"LotConfig\",\"SalePrice\",data=house)\n"
   ]
  },
  {
   "cell_type": "code",
   "execution_count": 1049,
   "metadata": {},
   "outputs": [
    {
     "data": {
      "text/plain": [
       "<matplotlib.axes._subplots.AxesSubplot at 0x23a99bfe080>"
      ]
     },
     "execution_count": 1049,
     "metadata": {},
     "output_type": "execute_result"
    },
    {
     "data": {
      "image/png": "[encoded data removed]",
      "text/plain": [
       "<Figure size 432x288 with 1 Axes>"
      ]
     },
     "metadata": {
      "image/png": {
       "height": 263,
       "width": 404
      },
      "needs_background": "light"
     },
     "output_type": "display_data"
    }
   ],
   "source": [
    "sns.scatterplot(\"MSSubClass\",\"SalePrice\",data=house)"
   ]
  },
  {
   "cell_type": "code",
   "execution_count": 1050,
   "metadata": {},
   "outputs": [
    {
     "data": {
      "text/plain": [
       "<matplotlib.axes._subplots.AxesSubplot at 0x23a99be85f8>"
      ]
     },
     "execution_count": 1050,
     "metadata": {},
     "output_type": "execute_result"
    },
    {
     "data": {
      "image/png": "[encoded data removed]",
      "text/plain": [
       "<Figure size 432x288 with 1 Axes>"
      ]
     },
     "metadata": {
      "image/png": {
       "height": 263,
       "width": 404
      },
      "needs_background": "light"
     },
     "output_type": "display_data"
    }
   ],
   "source": [
    "sns.scatterplot(\"Condition1\",\"SalePrice\",data=house)"
   ]
  },
  {
   "cell_type": "code",
   "execution_count": 1051,
   "metadata": {},
   "outputs": [
    {
     "data": {
      "text/plain": [
       "<matplotlib.axes._subplots.AxesSubplot at 0x23a9923b4e0>"
      ]
     },
     "execution_count": 1051,
     "metadata": {},
     "output_type": "execute_result"
    },
    {
     "data": {
      "image/png": "[encoded data removed]",
      "text/plain": [
       "<Figure size 432x288 with 1 Axes>"
      ]
     },
     "metadata": {
      "image/png": {
       "height": 263,
       "width": 404
      },
      "needs_background": "light"
     },
     "output_type": "display_data"
    }
   ],
   "source": [
    "sns.scatterplot(\"YrSold\",\"SalePrice\",data=house)"
   ]
  },
  {
   "cell_type": "code",
   "execution_count": 1052,
   "metadata": {},
   "outputs": [],
   "source": [
    "#house[['BsmtFinType1','BsmtFinType2','BsmtFinSF1'*100/'TotalBsmtSF','BsmtFinSF2'/'TotalBsmtSF']]"
   ]
  },
  {
   "cell_type": "code",
   "execution_count": 1053,
   "metadata": {},
   "outputs": [
    {
     "data": {
      "text/plain": [
       "<matplotlib.axes._subplots.AxesSubplot at 0x23a9883de48>"
      ]
     },
     "execution_count": 1053,
     "metadata": {},
     "output_type": "execute_result"
    },
    {
     "data": {
      "image/png": "[encoded data removed]",
      "text/plain": [
       "<Figure size 432x288 with 1 Axes>"
      ]
     },
     "metadata": {
      "image/png": {
       "height": 263,
       "width": 404
      },
      "needs_background": "light"
     },
     "output_type": "display_data"
    }
   ],
   "source": [
    "sns.boxplot(\"RoofMatl\",\"SalePrice\",data=house)"
   ]
  },
  {
   "cell_type": "code",
   "execution_count": 1054,
   "metadata": {},
   "outputs": [],
   "source": [
    "#Quantifying Overall Kitchen Quality\n",
    "pt=list()\n",
    "for i in house[\"KitchenQual\"]:\n",
    "    if i == \"Ex\":\n",
    "        pt.append(5)\n",
    "    elif i == \"Gd\":\n",
    "        pt.append(4)\n",
    "    elif i == \"TA\":\n",
    "        pt.append(3)\n",
    "    elif i == \"Fa\":\n",
    "        pt.append(2)\n",
    "    elif i == \"Po\":\n",
    "        pt.append(1)    \n",
    "house[\"KQ\"]=pt   "
   ]
  },
  {
   "cell_type": "code",
   "execution_count": null,
   "metadata": {},
   "outputs": [],
   "source": [
    "sklearn.feature_selection.mutual_info_regression"
   ]
  },
  {
   "cell_type": "code",
   "execution_count": null,
   "metadata": {},
   "outputs": [],
   "source": [
    "np.round(mr,3)"
   ]
  },
  {
   "cell_type": "code",
   "execution_count": null,
   "metadata": {},
   "outputs": [],
   "source": []
  },
  {
   "cell_type": "code",
   "execution_count": 1056,
   "metadata": {},
   "outputs": [],
   "source": [
    "# Extracting Values of y\n",
    "y_train = house.loc[house[\"YrSold\"]< 2010,\"SalePrice\"]\n",
    "y_test =  house.loc[house[\"YrSold\"]== 2010,\"SalePrice\"]\n",
    "y= house[\"YrSold\"]\n"
   ]
  },
  {
   "cell_type": "code",
   "execution_count": 1057,
   "metadata": {},
   "outputs": [],
   "source": [
    "P_static=[\"OverallQual\",\"YearBuilt\",\"YearRemodAdd\",\"TotalBsmtSF\",\n",
    "\"FullBath\",\"GarageCars\",\"GarageArea\",\"YrSold\",\"MSZoning\",\"Alley\",\"LotShape\",\"LandContour\",\"Utilities\",\"LotConfig\",\"LandSlope\",\"Neighborhood\",\"Condition1\",\"Condition2\",\"BldgType\",\"HouseStyle\",\n",
    "\"RoofStyle\",\"RoofMatl\",\"Exterior1st\",\"Exterior2nd\",\"MasVnrType\",\"ExterQual\",\"ExterCond\",\"Foundation\",\"BsmtQual\",\"BsmtCond\",\n",
    "\"BsmtExposure\",\"BsmtFinType1\",\"BsmtFinType2\",\"Heating\",\"HeatingQC\",\"CentralAir\",\"Electrical\",\"KitchenQual\",\"Functional\",\n",
    "\"FireplaceQu\",\"GarageType\",\"GarageFinish\",\"GarageQual\",\"GarageCond\",\"PavedDrive\",\"PoolQC\",\"Fence\",\"MiscFeature\",\n",
    "\"SaleType\",\"SaleCondition\",\"KQ\",\"OverallCond\"]\n",
    "\n",
    "p_static_cat=[\"MSZoning\",\"Alley\",\"LotShape\",\"LandContour\",\"Utilities\",\"LotConfig\",\"LandSlope\",\"Neighborhood\",\"Condition1\",\"Condition2\",\"BldgType\",\"HouseStyle\",\n",
    "\"RoofStyle\",\"RoofMatl\",\"Exterior1st\",\"Exterior2nd\",\"MasVnrType\",\"ExterQual\",\"ExterCond\",\"Foundation\",\"BsmtQual\",\"BsmtCond\",\n",
    "\"BsmtExposure\",\"BsmtFinType1\",\"BsmtFinType2\",\"Heating\",\"HeatingQC\",\"CentralAir\",\"Electrical\",\"KitchenQual\",\"Functional\",\n",
    "\"FireplaceQu\",\"GarageType\",\"GarageFinish\",\"GarageQual\",\"GarageCond\",\"PavedDrive\",\"PoolQC\",\"Fence\",\"MiscFeature\",\n",
    "\"SaleType\",\"SaleCondition\"]"
   ]
  },
  {
   "cell_type": "code",
   "execution_count": 1058,
   "metadata": {},
   "outputs": [],
   "source": [
    "X=house[P_static]"
   ]
  },
  {
   "cell_type": "code",
   "execution_count": 1059,
   "metadata": {},
   "outputs": [],
   "source": [
    "X_model=pd.get_dummies(X,columns=p_static_cat,drop_first=True)"
   ]
  },
  {
   "cell_type": "code",
   "execution_count": 1060,
   "metadata": {},
   "outputs": [
    {
     "data": {
      "text/plain": [
       "Index(['OverallQual', 'YearBuilt', 'YearRemodAdd', 'TotalBsmtSF', 'FullBath',\n",
       "       'GarageCars', 'GarageArea', 'YrSold', 'KQ', 'OverallCond',\n",
       "       ...\n",
       "       'SaleType_ConLI', 'SaleType_ConLw', 'SaleType_New', 'SaleType_Oth',\n",
       "       'SaleType_WD', 'SaleCondition_AdjLand', 'SaleCondition_Alloca',\n",
       "       'SaleCondition_Family', 'SaleCondition_Normal',\n",
       "       'SaleCondition_Partial'],\n",
       "      dtype='object', length=217)"
      ]
     },
     "execution_count": 1060,
     "metadata": {},
     "output_type": "execute_result"
    }
   ],
   "source": [
    "X_model.columns"
   ]
  },
  {
   "cell_type": "code",
   "execution_count": 1061,
   "metadata": {},
   "outputs": [],
   "source": [
    "X_model_Q1=X_model[[\"OverallQual\",\"YearBuilt\",\"TotalBsmtSF\",\"YearRemodAdd\",\n",
    "\"FullBath\",\"GarageCars\",\"GarageArea\",\"YrSold\",\"Alley_Pave\",\"LotShape_IR2\",\"LotConfig_CulDSac\",\"Neighborhood_Crawfor\",\"Neighborhood_NWAmes\",\"Neighborhood_NoRidge\",\n",
    "\"Neighborhood_NridgHt\",\"Neighborhood_Somerst\",\"Neighborhood_StoneBr\",\"Neighborhood_Timber\",\n",
    "\"Condition1_Norm\",\"BldgType_Duplex\",\"HouseStyle_2.5Fin\",\"HouseStyle_2.5Unf\",\"HouseStyle_2Story\",\"RoofMatl_WdShngl\",\"Foundation_PConc\",\n",
    "\"BsmtCond_Gd\",\"BsmtCond_TA\",\"BsmtExposure_Gd\",\"BsmtExposure_Mn\",\"GarageType_Attchd\",\"GarageType_BuiltIn\",\"GarageQual_Gd\",\n",
    "\"GarageQual_TA\",\"GarageCond_TA\",\"PavedDrive_Y\",\"SaleType_New\",\"SaleCondition_Normal\"]]"
   ]
  },
  {
   "cell_type": "code",
   "execution_count": 1062,
   "metadata": {},
   "outputs": [],
   "source": [
    "X_model_Q2=X_model[[\"Exterior1st_BrkFace\",\"Exterior1st_CemntBd\",\"Exterior1st_Plywood\",\"Exterior2nd_VinylSd\",\"MasVnrType_Stone\",\n",
    "\"ExterCond_Gd\",\"BsmtFinType1_GLQ\",\"BsmtFinType2_LwQ\",\"Heating_GasW\",\"CentralAir_Y\",\"FireplaceQu_Fa\",\"FireplaceQu_Gd\",\n",
    "\"FireplaceQu_TA\",\"YrSold\",\"YearRemodAdd\",\"KQ\",\"OverallCond\"]]"
   ]
  },
  {
   "cell_type": "code",
   "execution_count": null,
   "metadata": {},
   "outputs": [],
   "source": []
  },
  {
   "cell_type": "code",
   "execution_count": 1063,
   "metadata": {},
   "outputs": [
    {
     "data": {
      "text/plain": [
       "(1450, 217)"
      ]
     },
     "execution_count": 1063,
     "metadata": {},
     "output_type": "execute_result"
    }
   ],
   "source": [
    "X_model.shape"
   ]
  },
  {
   "cell_type": "code",
   "execution_count": 1064,
   "metadata": {},
   "outputs": [],
   "source": [
    "from sklearn.linear_model import LinearRegression \n",
    "from sklearn.linear_model import Lasso\n",
    "from sklearn import metrics as met\n",
    "from sklearn.preprocessing import StandardScaler, OneHotEncoder,RobustScaler\n",
    "from sklearn.compose import ColumnTransformer, make_column_transformer\n"
   ]
  },
  {
   "cell_type": "code",
   "execution_count": 1065,
   "metadata": {},
   "outputs": [],
   "source": [
    "X_train=X_model_Q1[X_model[\"YrSold\"]< 2010]\n",
    "X_test=X_model_Q1.loc[X_model[\"YrSold\"] == 2010,:]\n"
   ]
  },
  {
   "cell_type": "code",
   "execution_count": 1066,
   "metadata": {},
   "outputs": [
    {
     "name": "stdout",
     "output_type": "stream",
     "text": [
      "(1278, 37) (172, 37) (1278,) (172,)\n"
     ]
    }
   ],
   "source": [
    "print(X_train.shape,X_test.shape,y_train.shape,y_test.shape)"
   ]
  },
  {
   "cell_type": "code",
   "execution_count": 1067,
   "metadata": {},
   "outputs": [],
   "source": [
    "X_train=X_train.drop(\"YrSold\",axis=1)\n",
    "X_test=X_test.drop(\"YrSold\",axis=1)"
   ]
  },
  {
   "cell_type": "code",
   "execution_count": 1068,
   "metadata": {},
   "outputs": [],
   "source": [
    "RS=RobustScaler().fit(X_train)\n",
    "X_train=RS.transform(X_train)\n",
    "X_test=RS.transform(X_test)\n",
    "\n",
    "y_train=np.log1p(y_train)\n",
    "y_test=np.log1p(y_test)\n",
    "\n"
   ]
  },
  {
   "cell_type": "code",
   "execution_count": 1069,
   "metadata": {},
   "outputs": [
    {
     "name": "stdout",
     "output_type": "stream",
     "text": [
      "36\n",
      "0.833115464251906\n"
     ]
    }
   ],
   "source": [
    "\n",
    "clf = Lasso(alpha=0.001)\n",
    "clf.fit(X_train,y_train)\n",
    "a=clf.coef_\n",
    "print(len(clf.coef_))\n",
    "print(clf.score(X_test,y_test))\n"
   ]
  },
  {
   "cell_type": "code",
   "execution_count": 1070,
   "metadata": {},
   "outputs": [],
   "source": [
    "lr=LinearRegression()\n",
    "lr = lr.fit(X_train,y_train)\n",
    "lr.coef_\n",
    "\n",
    "y_pred = lr.predict(X_train)\n",
    "y_pred1 = lr.predict(X_test)"
   ]
  },
  {
   "cell_type": "code",
   "execution_count": 1071,
   "metadata": {},
   "outputs": [
    {
     "name": "stdout",
     "output_type": "stream",
     "text": [
      "0.8343907610319733\n",
      "0.83389317566213\n"
     ]
    }
   ],
   "source": [
    "print(met.r2_score(y_train,y_pred))\n",
    "print(met.r2_score(y_test,y_pred1))\n"
   ]
  },
  {
   "cell_type": "code",
   "execution_count": 1072,
   "metadata": {},
   "outputs": [
    {
     "data": {
      "text/plain": [
       "array([0.82687181, 0.81770421, 0.83626392, 0.8242575 , 0.73408299])"
      ]
     },
     "execution_count": 1072,
     "metadata": {},
     "output_type": "execute_result"
    }
   ],
   "source": [
    "from sklearn.model_selection import cross_val_score\n",
    "scores = cross_val_score(clf, X_train, y_train, cv=5)  \n",
    "scores\n",
    "#array([0.977..., 0.977..., 1.  ..., 0.955..., 1.        ])"
   ]
  },
  {
   "cell_type": "code",
   "execution_count": null,
   "metadata": {},
   "outputs": [],
   "source": []
  },
  {
   "cell_type": "code",
   "execution_count": 1073,
   "metadata": {},
   "outputs": [],
   "source": [
    "#Computing Residuals\n",
    "y_train_s=abs(np.expm1(y_train)-np.expm1(y_pred))\n",
    "y_test_s=abs(np.expm1(y_test)-np.expm1(y_pred1))"
   ]
  },
  {
   "cell_type": "markdown",
   "metadata": {},
   "source": [
    "<img src=\"http://imgur.com/l5NasQj.png\" style=\"float: left; margin: 25px 15px 0px 0px; height: 25px\">\n",
    "\n",
    "## 2. Determine any value of *changeable* property characteristics unexplained by the *fixed* ones.\n",
    "\n",
    "---\n",
    "\n",
    "Now that you have a model that estimates the price of a house based on its static characteristics, we can move forward with part 2 and 3 of the plan: what are the costs/benefits of quality, condition, and renovations?\n",
    "\n",
    "There are two specific requirements for these estimates:\n",
    "1. The estimates of effects must be in terms of dollars added or subtracted from the house value. \n",
    "2. The effects must be on the variance in price remaining from the first model.\n",
    "\n",
    "The residuals from the first model (training and testing) represent the variance in price unexplained by the fixed characteristics. Of that variance in price remaining, how much of it can be explained by the easy-to-change aspects of the property?\n",
    "\n",
    "---\n",
    "\n",
    "**Your goals:**\n",
    "1. Evaluate the effect in dollars of the renovate-able features. \n",
    "- How would your company use this second model and its coefficients to determine whether they should buy a property or not? Explain how the company can use the two models you have built to determine if they can make money. \n",
    "- Investigate how much of the variance in price remaining is explained by these features.\n",
    "- Do you trust your model? Should it be used to evaluate which properties to buy and fix up?"
   ]
  },
  {
   "cell_type": "code",
   "execution_count": 1074,
   "metadata": {},
   "outputs": [],
   "source": [
    "X_train=X_model_Q2[X_model[\"YrSold\"]< 2010]\n",
    "X_test=X_model_Q2.loc[X_model[\"YrSold\"] == 2010,:]"
   ]
  },
  {
   "cell_type": "code",
   "execution_count": 1075,
   "metadata": {},
   "outputs": [],
   "source": [
    "X_train=X_train.drop(\"YrSold\",axis=1)\n",
    "X_test=X_test.drop(\"YrSold\",axis=1)"
   ]
  },
  {
   "cell_type": "code",
   "execution_count": 1076,
   "metadata": {},
   "outputs": [
    {
     "data": {
      "text/plain": [
       "Index(['Exterior1st_BrkFace', 'Exterior1st_CemntBd', 'Exterior1st_Plywood',\n",
       "       'Exterior2nd_VinylSd', 'MasVnrType_Stone', 'ExterCond_Gd',\n",
       "       'BsmtFinType1_GLQ', 'BsmtFinType2_LwQ', 'Heating_GasW', 'CentralAir_Y',\n",
       "       'FireplaceQu_Fa', 'FireplaceQu_Gd', 'FireplaceQu_TA', 'YearRemodAdd',\n",
       "       'KQ', 'OverallCond'],\n",
       "      dtype='object')"
      ]
     },
     "execution_count": 1076,
     "metadata": {},
     "output_type": "execute_result"
    }
   ],
   "source": [
    "X_train.columns"
   ]
  },
  {
   "cell_type": "code",
   "execution_count": 1077,
   "metadata": {},
   "outputs": [],
   "source": [
    "\n",
    "RS=RobustScaler().fit(X_train)\n",
    "X_train=RS.transform(X_train)\n",
    "X_test=RS.transform(X_test)\n",
    "\n",
    "y_train=np.log1p(y_train_s)\n",
    "y_test=np.log1p(y_test_s)"
   ]
  },
  {
   "cell_type": "code",
   "execution_count": 1078,
   "metadata": {},
   "outputs": [],
   "source": [
    "lr=LinearRegression()\n",
    "lr = lr.fit(X_train,y_train)\n",
    "lr.coef_\n",
    "\n",
    "y_pred_n = lr.predict(X_train)\n",
    "y_pred_n1 = lr.predict(X_test)"
   ]
  },
  {
   "cell_type": "code",
   "execution_count": 1079,
   "metadata": {},
   "outputs": [
    {
     "name": "stdout",
     "output_type": "stream",
     "text": [
      "9.28570876372067\n",
      "[ 0.02193416  0.0220636   0.03023365  0.00042132  0.03770704  0.01066096\n",
      "  0.06591544 -0.00177219  0.01693244 -0.01616866 -0.01081638  0.09744657\n",
      "  0.01825538  0.07704381  0.14745524 -0.06433841]\n",
      "0.030220067263244554\n",
      "0.06124262973747796\n"
     ]
    }
   ],
   "source": [
    "from sklearn.linear_model import Ridge\n",
    "clf = Ridge(alpha=700)\n",
    "clf=clf.fit(X_train,y_train)           \n",
    "\n",
    "\n",
    "print(clf.intercept_)\n",
    "print(clf.coef_)\n",
    "y_pred_n = clf.predict(X_train)\n",
    "y_pred_n1 = clf.predict(X_test)\n",
    "\n",
    "print(clf.score(X_test,y_test))\n",
    "print(clf.score(X_train,y_train))"
   ]
  },
  {
   "cell_type": "code",
   "execution_count": 1080,
   "metadata": {},
   "outputs": [
    {
     "name": "stdout",
     "output_type": "stream",
     "text": [
      "0.06124262973747796\n",
      "0.030220067263244554\n"
     ]
    }
   ],
   "source": [
    "print(met.r2_score(y_train,y_pred_n))\n",
    "print(met.r2_score(y_test,y_pred_n1))\n"
   ]
  },
  {
   "cell_type": "code",
   "execution_count": 713,
   "metadata": {},
   "outputs": [
    {
     "name": "stdout",
     "output_type": "stream",
     "text": [
      "Percentage of SalePrice Predicted with renovatable model: 6.524174080263058\n",
      "Percentage of Residual Predicted with renovatable model: 4.5731348500361255\n"
     ]
    }
   ],
   "source": [
    "#Evaluate the effect in dollars of the renovate-able features\n",
    "val=sum(np.expm1(y_pred_n))+sum(np.expm1(y_pred_n1))\n",
    "print(\"Percentage of SalePrice Predicted with renovatable model:\",val*100/sum(house[\"SalePrice\"]))\n",
    "\n",
    "#How would your company use this second model and its coefficients to determine whether they should buy a property or not? Explain how the company can use the two models you have built to determine if they can make money.\n",
    "9.285708764+0.02193416*Exterior1st_BrkFace\"+\n",
    "0.0220636\t*Exterior1st_CemntBd,+\n",
    "0.03023365\t*Exterior1st_Plywood,+\n",
    "0.00042132\t*Exterior2nd_VinylSd,+\n",
    "0.03770704\t*MasVnrType_Stone,+\n",
    "0.01066096\t*ExterCond_Gd,+\n",
    "0.06591544\t*BsmtFinType1_GLQ,+\n",
    "-0.00177219\t*BsmtFinType2_LwQ,+\n",
    "0.01693244\t*Heating_GasW,+\n",
    "-0.01616866\t*CentralAir_Y,+\n",
    "-0.01081638\t*FireplaceQu_Fa,+\n",
    "0.09744657\t*FireplaceQu_Gd,+\n",
    "0.01825538\t*FireplaceQu_TA,+\n",
    "0.07704381\t*YearRemodAdd,+\n",
    "0.14745524\t*KQ,+\n",
    "-0.06433841\t*OverallCond\n",
    "\n",
    "#Positive indicators show the what increases value\n",
    "#Investigate how much of the variance in price remaining is explained by these features.\n",
    "Value=sum(np.expm1(y_train)-np.expm1(y_pred_n))+sum(np.expm1(y_test)-np.expm1(y_pred_n1))\n",
    "print(\"Percentage of Residual Predicted with renovatable model:\",(0.06124262973747796 +0.030220067263244554)*100/2)\n",
    "\n",
    "#Do you trust your model? Should it be used to evaluate which properties to buy and fix up?\n",
    "Yes"
   ]
  },
  {
   "cell_type": "markdown",
   "metadata": {},
   "source": [
    "<img src=\"http://imgur.com/GCAf1UX.png\" style=\"float: left; margin: 25px 15px 0px 0px; height: 25px\">\n",
    "\n",
    "## 3. What property characteristics predict an \"abnormal\" sale?\n",
    "\n",
    "---\n",
    "\n",
    "The `SaleCondition` feature indicates the circumstances of the house sale. From the data file, we can see that the possibilities are:\n",
    "\n",
    "       Normal\tNormal Sale\n",
    "       Abnorml\tAbnormal Sale -  trade, foreclosure, short sale\n",
    "       AdjLand\tAdjoining Land Purchase\n",
    "       Alloca\tAllocation - two linked properties with separate deeds, typically condo with a garage unit\t\n",
    "       Family\tSale between family members\n",
    "       Partial\tHome was not completed when last assessed (associated with New Homes)\n",
    "       \n",
    "One of the executives at your company has an \"in\" with higher-ups at the major regional bank. His friends at the bank have made him a proposal: if he can reliably indicate what features, if any, predict \"abnormal\" sales (foreclosures, short sales, etc.), then in return the bank will give him first dibs on the pre-auction purchase of those properties (at a dirt-cheap price).\n",
    "\n",
    "He has tasked you with determining (and adequately validating) which features of a property predict this type of sale. \n",
    "\n",
    "---\n",
    "\n",
    "**Your task:**\n",
    "1. Determine which features predict the `Abnorml` category in the `SaleCondition` feature.\n",
    "- Justify your results.\n",
    "\n",
    "This is a challenging task that tests your ability to perform classification analysis in the face of severe class imbalance. You may find that simply running a classifier on the full dataset to predict the category ends up useless: when there is bad class imbalance classifiers often tend to simply guess the majority class.\n",
    "\n",
    "It is up to you to determine how you will tackle this problem. I recommend doing some research to find out how others have dealt with the problem in the past. Make sure to justify your solution. Don't worry about it being \"the best\" solution, but be rigorous.\n",
    "\n",
    "Be sure to indicate which features are predictive (if any) and whether they are positive or negative predictors of abnormal sales."
   ]
  },
  {
   "cell_type": "code",
   "execution_count": 786,
   "metadata": {},
   "outputs": [
    {
     "name": "stdout",
     "output_type": "stream",
     "text": [
      "Requirement already satisfied: imblearn in c:\\users\\jyo\\anaconda3\\lib\\site-packages (0.0)\n",
      "Requirement already satisfied: imbalanced-learn in c:\\users\\jyo\\anaconda3\\lib\\site-packages (from imblearn) (0.4.3)\n",
      "Requirement already satisfied: scipy>=0.13.3 in c:\\users\\jyo\\anaconda3\\lib\\site-packages (from imbalanced-learn->imblearn) (1.1.0)\n",
      "Requirement already satisfied: numpy>=1.8.2 in c:\\users\\jyo\\anaconda3\\lib\\site-packages (from imbalanced-learn->imblearn) (1.15.4)\n",
      "Requirement already satisfied: scikit-learn>=0.20 in c:\\users\\jyo\\anaconda3\\lib\\site-packages (from imbalanced-learn->imblearn) (0.20.1)\n"
     ]
    }
   ],
   "source": [
    "!pip install imblearn"
   ]
  },
  {
   "cell_type": "code",
   "execution_count": 1081,
   "metadata": {},
   "outputs": [
    {
     "data": {
      "text/plain": [
       "(1450, 52)"
      ]
     },
     "execution_count": 1081,
     "metadata": {},
     "output_type": "execute_result"
    }
   ],
   "source": [
    "X.shape"
   ]
  },
  {
   "cell_type": "code",
   "execution_count": 1082,
   "metadata": {},
   "outputs": [],
   "source": [
    "\n",
    "X=X_model\n",
    "X[\"SalePrice\"]=house[\"SalePrice\"].values\n",
    "y = house[\"SaleCondition\"]\n",
    "y= [1 if i==\"Abnorml\" else 0 for i in y]\n",
    "#X_train=SC.fit_transform(X_model)\n",
    "#X_test=SC.fit_transform(X_test)"
   ]
  },
  {
   "cell_type": "code",
   "execution_count": 1083,
   "metadata": {},
   "outputs": [
    {
     "data": {
      "text/plain": [
       "96"
      ]
     },
     "execution_count": 1083,
     "metadata": {},
     "output_type": "execute_result"
    }
   ],
   "source": [
    "sum(y)\n"
   ]
  },
  {
   "cell_type": "code",
   "execution_count": 1084,
   "metadata": {},
   "outputs": [],
   "source": [
    "from imblearn.over_sampling import SMOTE\n",
    "X_resampled, y_resampled = SMOTE().fit_resample(X, y)"
   ]
  },
  {
   "cell_type": "code",
   "execution_count": 1085,
   "metadata": {},
   "outputs": [],
   "source": [
    "from sklearn.feature_selection import mutual_info_classif\n",
    "mi= mutual_info_classif(X_resampled,y_resampled)\n",
    "\n",
    "rel=np.round(mi,2)"
   ]
  },
  {
   "cell_type": "code",
   "execution_count": 1086,
   "metadata": {
    "scrolled": true
   },
   "outputs": [
    {
     "name": "stdout",
     "output_type": "stream",
     "text": [
      "[(0, 1354), (1, 1354)]\n",
      "[(0, 1354), (1, 96)]\n"
     ]
    }
   ],
   "source": [
    "from collections import Counter\n",
    "print(sorted(Counter(y_resampled).items()))\n",
    "print(sorted(Counter(y).items()))"
   ]
  },
  {
   "cell_type": "code",
   "execution_count": null,
   "metadata": {},
   "outputs": [],
   "source": []
  },
  {
   "cell_type": "code",
   "execution_count": 1087,
   "metadata": {},
   "outputs": [],
   "source": [
    "bar_d=pd.DataFrame({\"type\":[0,1,0,1],\"samp\":[\"Y_Resampled\",\"Y_Resampled\",\"y\",\"y\"],\"per\":[50,50,93,6]})"
   ]
  },
  {
   "cell_type": "code",
   "execution_count": 1088,
   "metadata": {},
   "outputs": [
    {
     "data": {
      "text/plain": [
       "[Text(0, 0, 'Y_Resampled'), Text(0, 0, 'y')]"
      ]
     },
     "execution_count": 1088,
     "metadata": {},
     "output_type": "execute_result"
    },
    {
     "data": {
      "image/png": "[encoded data removed]",
      "text/plain": [
       "<Figure size 432x288 with 1 Axes>"
      ]
     },
     "metadata": {
      "image/png": {
       "height": 305,
       "width": 382
      },
      "needs_background": "light"
     },
     "output_type": "display_data"
    }
   ],
   "source": [
    "sns.barplot(x=\"samp\", y=\"per\", hue=\"type\",\n",
    "               data=bar_d).set_xticklabels(rotation=45, horizontalalignment='right',labels=[\"Y_Resampled\",\"y\"])"
   ]
  },
  {
   "cell_type": "code",
   "execution_count": 1089,
   "metadata": {},
   "outputs": [
    {
     "data": {
      "text/plain": [
       "(2708, 218)"
      ]
     },
     "execution_count": 1089,
     "metadata": {},
     "output_type": "execute_result"
    }
   ],
   "source": [
    "X_resampled.shape"
   ]
  },
  {
   "cell_type": "code",
   "execution_count": 1090,
   "metadata": {},
   "outputs": [],
   "source": [
    "df=pd.DataFrame({'x':X.columns,\"y\":rel})"
   ]
  },
  {
   "cell_type": "code",
   "execution_count": 1091,
   "metadata": {},
   "outputs": [
    {
     "data": {
      "text/html": [
       "<div>\n",
       "<style scoped>\n",
       "    .dataframe tbody tr th:only-of-type {\n",
       "        vertical-align: middle;\n",
       "    }\n",
       "\n",
       "    .dataframe tbody tr th {\n",
       "        vertical-align: top;\n",
       "    }\n",
       "\n",
       "    .dataframe thead th {\n",
       "        text-align: right;\n",
       "    }\n",
       "</style>\n",
       "<table border=\"1\" class=\"dataframe\">\n",
       "  <thead>\n",
       "    <tr style=\"text-align: right;\">\n",
       "      <th></th>\n",
       "      <th>x</th>\n",
       "      <th>y</th>\n",
       "    </tr>\n",
       "  </thead>\n",
       "  <tbody>\n",
       "    <tr>\n",
       "      <th>1</th>\n",
       "      <td>YearBuilt</td>\n",
       "      <td>0.08</td>\n",
       "    </tr>\n",
       "    <tr>\n",
       "      <th>2</th>\n",
       "      <td>YearRemodAdd</td>\n",
       "      <td>0.09</td>\n",
       "    </tr>\n",
       "    <tr>\n",
       "      <th>3</th>\n",
       "      <td>TotalBsmtSF</td>\n",
       "      <td>0.07</td>\n",
       "    </tr>\n",
       "    <tr>\n",
       "      <th>5</th>\n",
       "      <td>GarageCars</td>\n",
       "      <td>0.06</td>\n",
       "    </tr>\n",
       "    <tr>\n",
       "      <th>6</th>\n",
       "      <td>GarageArea</td>\n",
       "      <td>0.15</td>\n",
       "    </tr>\n",
       "    <tr>\n",
       "      <th>74</th>\n",
       "      <td>HouseStyle_2Story</td>\n",
       "      <td>0.06</td>\n",
       "    </tr>\n",
       "    <tr>\n",
       "      <th>134</th>\n",
       "      <td>BsmtQual_Gd</td>\n",
       "      <td>0.06</td>\n",
       "    </tr>\n",
       "    <tr>\n",
       "      <th>176</th>\n",
       "      <td>FireplaceQu_Gd</td>\n",
       "      <td>0.07</td>\n",
       "    </tr>\n",
       "    <tr>\n",
       "      <th>211</th>\n",
       "      <td>SaleType_WD</td>\n",
       "      <td>0.08</td>\n",
       "    </tr>\n",
       "    <tr>\n",
       "      <th>215</th>\n",
       "      <td>SaleCondition_Normal</td>\n",
       "      <td>0.51</td>\n",
       "    </tr>\n",
       "    <tr>\n",
       "      <th>217</th>\n",
       "      <td>SalePrice</td>\n",
       "      <td>0.22</td>\n",
       "    </tr>\n",
       "  </tbody>\n",
       "</table>\n",
       "</div>"
      ],
      "text/plain": [
       "                        x     y\n",
       "1               YearBuilt  0.08\n",
       "2            YearRemodAdd  0.09\n",
       "3             TotalBsmtSF  0.07\n",
       "5              GarageCars  0.06\n",
       "6              GarageArea  0.15\n",
       "74      HouseStyle_2Story  0.06\n",
       "134           BsmtQual_Gd  0.06\n",
       "176        FireplaceQu_Gd  0.07\n",
       "211           SaleType_WD  0.08\n",
       "215  SaleCondition_Normal  0.51\n",
       "217             SalePrice  0.22"
      ]
     },
     "execution_count": 1091,
     "metadata": {},
     "output_type": "execute_result"
    }
   ],
   "source": [
    "df[df.y>0.05]"
   ]
  },
  {
   "cell_type": "code",
   "execution_count": 1092,
   "metadata": {},
   "outputs": [],
   "source": [
    "X_model=X_model[[\"YearBuilt\",\"YearRemodAdd\",\"TotalBsmtSF\",\"FullBath\",\"GarageArea\",\"HouseStyle_2Story\",\"Exterior2nd_VinylSd\",\"Exterior1st_VinylSd\",\"FireplaceQu_Gd\",\"GarageType_Attchd\",\"SaleType_WD\",\n",
    "               \"SaleCondition_Normal\",\"SalePrice\",\"Foundation_PConc\"]]\n"
   ]
  },
  {
   "cell_type": "code",
   "execution_count": 1093,
   "metadata": {},
   "outputs": [
    {
     "data": {
      "text/plain": [
       "[Text(0, 0, 'YearBuilt'),\n",
       " Text(0, 0, 'YearRemodAdd'),\n",
       " Text(0, 0, 'FullBath'),\n",
       " Text(0, 0, 'GarageArea'),\n",
       " Text(0, 0, 'Exterior2nd_VinylSd'),\n",
       " Text(0, 0, 'Exterior1st_VinylSd'),\n",
       " Text(0, 0, 'Foundation_PConc'),\n",
       " Text(0, 0, 'FireplaceQu_Gd'),\n",
       " Text(0, 0, 'SaleType_WD'),\n",
       " Text(0, 0, 'SaleCondition_Normal'),\n",
       " Text(0, 0, 'SalePrice')]"
      ]
     },
     "execution_count": 1093,
     "metadata": {},
     "output_type": "execute_result"
    },
    {
     "data": {
      "image/png": "[encoded data removed]",
      "text/plain": [
       "<Figure size 432x288 with 1 Axes>"
      ]
     },
     "metadata": {
      "image/png": {
       "height": 331,
       "width": 385
      },
      "needs_background": "light"
     },
     "output_type": "display_data"
    }
   ],
   "source": [
    "sns.barplot(x=df.loc[df.y>0.05,\"x\"], y=df.loc[df.y>0.05,\"y\"],\n",
    "               data=df).set_xticklabels(rotation=45, horizontalalignment='right',labels=[\"YearBuilt\",\"YearRemodAdd\",\"FullBath\",\"GarageArea\",\"Exterior2nd_VinylSd\",\"Exterior1st_VinylSd\",\"Foundation_PConc\",\"FireplaceQu_Gd\",\"SaleType_WD\",\n",
    "               \"SaleCondition_Normal\",\"SalePrice\",])"
   ]
  },
  {
   "cell_type": "code",
   "execution_count": 1094,
   "metadata": {},
   "outputs": [],
   "source": [
    "from sklearn.model_selection import train_test_split\n",
    "X_train, X_test, y_train, y_test = train_test_split(X_model, y, test_size=0.33, random_state=42)\n"
   ]
  },
  {
   "cell_type": "code",
   "execution_count": null,
   "metadata": {},
   "outputs": [],
   "source": []
  },
  {
   "cell_type": "code",
   "execution_count": 1095,
   "metadata": {},
   "outputs": [
    {
     "name": "stderr",
     "output_type": "stream",
     "text": [
      "C:\\Users\\Jyo\\Anaconda3\\lib\\site-packages\\sklearn\\preprocessing\\data.py:625: DataConversionWarning: Data with input dtype uint8, int64 were all converted to float64 by StandardScaler.\n",
      "  return self.partial_fit(X, y)\n",
      "C:\\Users\\Jyo\\Anaconda3\\lib\\site-packages\\sklearn\\base.py:462: DataConversionWarning: Data with input dtype uint8, int64 were all converted to float64 by StandardScaler.\n",
      "  return self.fit(X, **fit_params).transform(X)\n",
      "C:\\Users\\Jyo\\Anaconda3\\lib\\site-packages\\ipykernel_launcher.py:4: DataConversionWarning: Data with input dtype uint8, int64 were all converted to float64 by StandardScaler.\n",
      "  after removing the cwd from sys.path.\n"
     ]
    }
   ],
   "source": [
    "SC=StandardScaler()\n",
    "\n",
    "X_train=SC.fit_transform(X_train)\n",
    "X_test=SC.transform(X_test)\n"
   ]
  },
  {
   "cell_type": "code",
   "execution_count": 1096,
   "metadata": {},
   "outputs": [
    {
     "data": {
      "text/plain": [
       "LogisticRegressionCV(Cs=1000, class_weight=None, cv=25, dual=False,\n",
       "           fit_intercept=True, intercept_scaling=1.0, max_iter=100,\n",
       "           multi_class='warn', n_jobs=-1, penalty='l2', random_state=None,\n",
       "           refit=True, scoring=None, solver='lbfgs', tol=0.0001, verbose=0)"
      ]
     },
     "execution_count": 1096,
     "metadata": {},
     "output_type": "execute_result"
    }
   ],
   "source": [
    "from sklearn.linear_model import LogisticRegressionCV\n",
    "from sklearn.model_selection import cross_val_score\n",
    "\n",
    "\n",
    "#Lr=LogisticRegressionCV(Cs=1000, cv=5, penalty='l1', scoring='accuracy', solver='liblinear')\n",
    "#Lr.fit(X_train,y_train)\n",
    "\n",
    "lr_ridge = LogisticRegressionCV(penalty='l2', Cs=1000, cv=25,n_jobs =-1)\n",
    "lr_ridge.fit(X_train, y_train)\n",
    "\n",
    "# using a 25-fold cross-val for  fun\n",
    "#scores = cross_val_score(lr, X_train, y_train, cv=25)\n",
    "#print(scores)\n",
    "#print(np.mean(scores))"
   ]
  },
  {
   "cell_type": "code",
   "execution_count": null,
   "metadata": {},
   "outputs": [],
   "source": []
  },
  {
   "cell_type": "code",
   "execution_count": 1097,
   "metadata": {},
   "outputs": [],
   "source": [
    "y_ridge = lr_ridge.predict(X_test)\n",
    "yhat_ridge_pp = lr_ridge.predict_proba(X_test)\n"
   ]
  },
  {
   "cell_type": "code",
   "execution_count": 1098,
   "metadata": {},
   "outputs": [
    {
     "data": {
      "text/plain": [
       "(array([False,  True]), array([448,  31], dtype=int64))"
      ]
     },
     "execution_count": 1098,
     "metadata": {},
     "output_type": "execute_result"
    }
   ],
   "source": [
    "np.unique(yhat_ridge_pp[:,1] > 0.50,return_counts=True)"
   ]
  },
  {
   "cell_type": "code",
   "execution_count": 1099,
   "metadata": {},
   "outputs": [],
   "source": [
    "unique, counts=np.unique(y_test,return_counts=True)"
   ]
  },
  {
   "cell_type": "code",
   "execution_count": 1,
   "metadata": {},
   "outputs": [
    {
     "ename": "NameError",
     "evalue": "name 'y_test' is not defined",
     "output_type": "error",
     "traceback": [
      "\u001b[1;31m---------------------------------------------------------------------------\u001b[0m",
      "\u001b[1;31mNameError\u001b[0m                                 Traceback (most recent call last)",
      "\u001b[1;32m<ipython-input-1-cf08b2e41e5c>\u001b[0m in \u001b[0;36m<module>\u001b[1;34m\u001b[0m\n\u001b[1;32m----> 1\u001b[1;33m \u001b[0my_test\u001b[0m\u001b[1;33m.\u001b[0m\u001b[0mvalue_counts\u001b[0m\u001b[1;33m(\u001b[0m\u001b[1;33m)\u001b[0m\u001b[1;33m/\u001b[0m\u001b[0mlen\u001b[0m\u001b[1;33m(\u001b[0m\u001b[0my\u001b[0m\u001b[1;33m)\u001b[0m\u001b[1;33m\u001b[0m\u001b[1;33m\u001b[0m\u001b[0m\n\u001b[0m",
      "\u001b[1;31mNameError\u001b[0m: name 'y_test' is not defined"
     ]
    }
   ],
   "source": []
  },
  {
   "cell_type": "code",
   "execution_count": 1100,
   "metadata": {},
   "outputs": [
    {
     "data": {
      "text/plain": [
       "(array([0, 1]), array([448,  31], dtype=int64))"
      ]
     },
     "execution_count": 1100,
     "metadata": {},
     "output_type": "execute_result"
    }
   ],
   "source": [
    "unique, counts"
   ]
  },
  {
   "cell_type": "code",
   "execution_count": 1101,
   "metadata": {},
   "outputs": [
    {
     "data": {
      "text/plain": [
       "0.06471816283924843"
      ]
     },
     "execution_count": 1101,
     "metadata": {},
     "output_type": "execute_result"
    }
   ],
   "source": [
    "31/(448+31)"
   ]
  },
  {
   "cell_type": "code",
   "execution_count": 1102,
   "metadata": {},
   "outputs": [
    {
     "data": {
      "text/html": [
       "<div>\n",
       "<style scoped>\n",
       "    .dataframe tbody tr th:only-of-type {\n",
       "        vertical-align: middle;\n",
       "    }\n",
       "\n",
       "    .dataframe tbody tr th {\n",
       "        vertical-align: top;\n",
       "    }\n",
       "\n",
       "    .dataframe thead th {\n",
       "        text-align: right;\n",
       "    }\n",
       "</style>\n",
       "<table border=\"1\" class=\"dataframe\">\n",
       "  <thead>\n",
       "    <tr style=\"text-align: right;\">\n",
       "      <th></th>\n",
       "      <th>predicted_not_Abnormal</th>\n",
       "      <th>predicted_is_Abnormal</th>\n",
       "    </tr>\n",
       "  </thead>\n",
       "  <tbody>\n",
       "    <tr>\n",
       "      <th>Real_not_Abnormal</th>\n",
       "      <td>440</td>\n",
       "      <td>8</td>\n",
       "    </tr>\n",
       "    <tr>\n",
       "      <th>Real_is_Abnormal</th>\n",
       "      <td>8</td>\n",
       "      <td>23</td>\n",
       "    </tr>\n",
       "  </tbody>\n",
       "</table>\n",
       "</div>"
      ],
      "text/plain": [
       "                   predicted_not_Abnormal  predicted_is_Abnormal\n",
       "Real_not_Abnormal                     440                      8\n",
       "Real_is_Abnormal                        8                     23"
      ]
     },
     "execution_count": 1102,
     "metadata": {},
     "output_type": "execute_result"
    }
   ],
   "source": [
    "from sklearn.metrics import classification_report, confusion_matrix\n",
    "conmat = np.array(confusion_matrix(y_test, y_ridge, labels=[0,1]))\n",
    "\n",
    "confusion = pd.DataFrame(conmat, index=['Real_not_Abnormal','Real_is_Abnormal',],\n",
    "                         columns=['predicted_not_Abnormal','predicted_is_Abnormal'])\n",
    "confusion"
   ]
  },
  {
   "cell_type": "code",
   "execution_count": 1103,
   "metadata": {},
   "outputs": [
    {
     "data": {
      "text/plain": [
       "array([[440,   8],\n",
       "       [  8,  23]], dtype=int64)"
      ]
     },
     "execution_count": 1103,
     "metadata": {},
     "output_type": "execute_result"
    }
   ],
   "source": [
    "conmat"
   ]
  },
  {
   "cell_type": "code",
   "execution_count": 1104,
   "metadata": {},
   "outputs": [],
   "source": [
    " tn, fp, fn, tp = conmat.ravel()"
   ]
  },
  {
   "cell_type": "code",
   "execution_count": 1105,
   "metadata": {},
   "outputs": [
    {
     "name": "stdout",
     "output_type": "stream",
     "text": [
      "440 8 8 23\n"
     ]
    }
   ],
   "source": [
    " print(tn, fp, fn, tp)"
   ]
  },
  {
   "cell_type": "code",
   "execution_count": 1106,
   "metadata": {},
   "outputs": [
    {
     "data": {
      "text/plain": [
       "0.7419354838709677"
      ]
     },
     "execution_count": 1106,
     "metadata": {},
     "output_type": "execute_result"
    }
   ],
   "source": [
    "tp / (tp + fn)"
   ]
  },
  {
   "cell_type": "code",
   "execution_count": 1107,
   "metadata": {},
   "outputs": [],
   "source": [
    "Accuracy = (tp+tn)/(tp+fp+fn+tn)"
   ]
  },
  {
   "cell_type": "code",
   "execution_count": 1108,
   "metadata": {},
   "outputs": [],
   "source": [
    "Precision = tp/(tp+fp)"
   ]
  },
  {
   "cell_type": "code",
   "execution_count": 1109,
   "metadata": {},
   "outputs": [],
   "source": [
    "Recall = tp/(tp+fn)"
   ]
  },
  {
   "cell_type": "code",
   "execution_count": 1110,
   "metadata": {},
   "outputs": [],
   "source": [
    "F1_Score = 2*(Recall * Precision) / (Recall + Precision)"
   ]
  },
  {
   "cell_type": "code",
   "execution_count": 1117,
   "metadata": {},
   "outputs": [
    {
     "name": "stdout",
     "output_type": "stream",
     "text": [
      "Accuracy 0.9665970772442589 Precision 0.7419354838709677 Recall 0.7419354838709677 F1 Score: 0.7419354838709677\n"
     ]
    }
   ],
   "source": [
    "print(\"Accuracy\",Accuracy,\"Precision\",Precision,\"Recall\",Recall,\"F1 Score:\",F1_Score)"
   ]
  },
  {
   "cell_type": "code",
   "execution_count": null,
   "metadata": {},
   "outputs": [],
   "source": []
  },
  {
   "cell_type": "code",
   "execution_count": 1112,
   "metadata": {},
   "outputs": [
    {
     "data": {
      "image/png": "[encoded data removed]",
      "text/plain": [
       "<Figure size 432x288 with 1 Axes>"
      ]
     },
     "metadata": {
      "image/png": {
       "height": 276,
       "width": 390
      },
      "needs_background": "light"
     },
     "output_type": "display_data"
    }
   ],
   "source": [
    "from sklearn.metrics import roc_auc_score\n",
    "from sklearn.metrics import roc_curve,recall_score,precision_score\n",
    "logit_roc_auc = roc_auc_score(y_test, lr_ridge.predict(X_test))\n",
    "fpr, tpr, thresholds = roc_curve(y_test, lr_ridge.predict_proba(X_test)[:,1])\n",
    "plt.figure()\n",
    "plt.plot(fpr, tpr, label='Logistic Regression (area = %0.2f)' % logit_roc_auc)\n",
    "plt.plot([0, 1], [0, 1],'r--')\n",
    "plt.xlim([0.0, 1.0])\n",
    "plt.ylim([0.0, 1.05])\n",
    "plt.xlabel('False Positive Rate')\n",
    "plt.ylabel('True Positive Rate')\n",
    "plt.title('Abnormal Sales')\n",
    "plt.legend(loc=\"lower right\")\n",
    "plt.savefig('Log_ROC')\n",
    "plt.show()"
   ]
  },
  {
   "cell_type": "code",
   "execution_count": 1113,
   "metadata": {},
   "outputs": [
    {
     "data": {
      "text/plain": [
       "(array([0.        , 0.        , 0.00223214, 0.00223214, 0.00446429,\n",
       "        0.00446429, 0.00669643, 0.00669643, 0.00892857, 0.00892857,\n",
       "        0.01339286, 0.01339286, 0.015625  , 0.015625  , 0.01785714,\n",
       "        0.01785714, 0.02008929, 0.02008929, 0.02232143, 0.02232143,\n",
       "        0.02678571, 0.02678571, 0.05580357, 0.05580357, 1.        ]),\n",
       " array([0.        , 0.03225806, 0.03225806, 0.09677419, 0.09677419,\n",
       "        0.19354839, 0.19354839, 0.41935484, 0.41935484, 0.51612903,\n",
       "        0.51612903, 0.70967742, 0.70967742, 0.74193548, 0.74193548,\n",
       "        0.77419355, 0.77419355, 0.80645161, 0.80645161, 0.90322581,\n",
       "        0.90322581, 0.96774194, 0.96774194, 1.        , 1.        ]),\n",
       " array([1.89067556e+00, 8.90675562e-01, 8.89920821e-01, 8.74358830e-01,\n",
       "        8.50560657e-01, 8.14581970e-01, 8.12423739e-01, 7.25301166e-01,\n",
       "        7.14867445e-01, 6.69219016e-01, 6.33946639e-01, 5.64767877e-01,\n",
       "        5.64399182e-01, 5.52432572e-01, 5.01234820e-01, 4.60764632e-01,\n",
       "        4.41745972e-01, 4.01633667e-01, 3.91983434e-01, 3.47242210e-01,\n",
       "        2.30370179e-01, 2.06176571e-01, 1.32139120e-01, 8.24801886e-02,\n",
       "        3.87690971e-05]))"
      ]
     },
     "execution_count": 1113,
     "metadata": {},
     "output_type": "execute_result"
    }
   ],
   "source": [
    "roc_curve(y_test, lr_ridge.predict_proba(X_test)[:,1])"
   ]
  },
  {
   "cell_type": "code",
   "execution_count": 1114,
   "metadata": {},
   "outputs": [
    {
     "data": {
      "text/plain": [
       "array([0.        , 0.        , 0.00223214, 0.00223214, 0.00446429,\n",
       "       0.00446429, 0.00669643, 0.00669643, 0.00892857, 0.00892857,\n",
       "       0.01339286, 0.01339286, 0.015625  , 0.015625  , 0.01785714,\n",
       "       0.01785714, 0.02008929, 0.02008929, 0.02232143, 0.02232143,\n",
       "       0.02678571, 0.02678571, 0.05580357, 0.05580357, 1.        ])"
      ]
     },
     "execution_count": 1114,
     "metadata": {},
     "output_type": "execute_result"
    }
   ],
   "source": [
    "fpr"
   ]
  },
  {
   "cell_type": "code",
   "execution_count": 1115,
   "metadata": {},
   "outputs": [
    {
     "data": {
      "text/plain": [
       "array([0.        , 0.03225806, 0.03225806, 0.09677419, 0.09677419,\n",
       "       0.19354839, 0.19354839, 0.41935484, 0.41935484, 0.51612903,\n",
       "       0.51612903, 0.70967742, 0.70967742, 0.74193548, 0.74193548,\n",
       "       0.77419355, 0.77419355, 0.80645161, 0.80645161, 0.90322581,\n",
       "       0.90322581, 0.96774194, 0.96774194, 1.        , 1.        ])"
      ]
     },
     "execution_count": 1115,
     "metadata": {},
     "output_type": "execute_result"
    }
   ],
   "source": [
    "tpr"
   ]
  },
  {
   "cell_type": "code",
   "execution_count": 1116,
   "metadata": {},
   "outputs": [
    {
     "data": {
      "text/plain": [
       "array([1.89067556e+00, 8.90675562e-01, 8.89920821e-01, 8.74358830e-01,\n",
       "       8.50560657e-01, 8.14581970e-01, 8.12423739e-01, 7.25301166e-01,\n",
       "       7.14867445e-01, 6.69219016e-01, 6.33946639e-01, 5.64767877e-01,\n",
       "       5.64399182e-01, 5.52432572e-01, 5.01234820e-01, 4.60764632e-01,\n",
       "       4.41745972e-01, 4.01633667e-01, 3.91983434e-01, 3.47242210e-01,\n",
       "       2.30370179e-01, 2.06176571e-01, 1.32139120e-01, 8.24801886e-02,\n",
       "       3.87690971e-05])"
      ]
     },
     "execution_count": 1116,
     "metadata": {},
     "output_type": "execute_result"
    }
   ],
   "source": [
    "thresholds"
   ]
  },
  {
   "cell_type": "code",
   "execution_count": 955,
   "metadata": {},
   "outputs": [
    {
     "data": {
      "text/plain": [
       "0.8620391705069124"
      ]
     },
     "execution_count": 955,
     "metadata": {},
     "output_type": "execute_result"
    }
   ],
   "source": [
    "recall_score(y_test, y_ridge, average='macro') "
   ]
  },
  {
   "cell_type": "code",
   "execution_count": 956,
   "metadata": {},
   "outputs": [
    {
     "data": {
      "text/plain": [
       "0.8620391705069124"
      ]
     },
     "execution_count": 956,
     "metadata": {},
     "output_type": "execute_result"
    }
   ],
   "source": [
    "precision_score(y_test, y_ridge, average='macro')  "
   ]
  },
  {
   "cell_type": "code",
   "execution_count": null,
   "metadata": {},
   "outputs": [],
   "source": []
  }
 ],
 "metadata": {
  "kernelspec": {
   "display_name": "Python 3",
   "language": "python",
   "name": "python3"
  },
  "language_info": {
   "codemirror_mode": {
    "name": "ipython",
    "version": 3
   },
   "file_extension": ".py",
   "mimetype": "text/x-python",
   "name": "python",
   "nbconvert_exporter": "python",
   "pygments_lexer": "ipython3",
   "version": "3.7.1"
  },
  "latex_envs": {
   "LaTeX_envs_menu_present": true,
   "autoclose": false,
   "autocomplete": true,
   "bibliofile": "biblio.bib",
   "cite_by": "apalike",
   "current_citInitial": 1,
   "eqLabelWithNumbers": true,
   "eqNumInitial": 1,
   "hotkeys": {
    "equation": "Ctrl-E",
    "itemize": "Ctrl-I"
   },
   "labels_anchors": false,
   "latex_user_defs": false,
   "report_style_numbering": false,
   "user_envs_cfg": false
  },
  "varInspector": {
   "cols": {
    "lenName": 16,
    "lenType": 16,
    "lenVar": 40
   },
   "kernels_config": {
    "python": {
     "delete_cmd_postfix": "",
     "delete_cmd_prefix": "del ",
     "library": "var_list.py",
     "varRefreshCmd": "print(var_dic_list())"
    },
    "r": {
     "delete_cmd_postfix": ") ",
     "delete_cmd_prefix": "rm(",
     "library": "var_list.r",
     "varRefreshCmd": "cat(var_dic_list()) "
    }
   },
   "types_to_exclude": [
    "module",
    "function",
    "builtin_function_or_method",
    "instance",
    "_Feature"
   ],
   "window_display": false
  }
 },
 "nbformat": 4,
 "nbformat_minor": 2
}
